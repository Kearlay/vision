{
 "cells": [
  {
   "cell_type": "markdown",
   "metadata": {},
   "source": [
    "# Feature detection in the entire image tile"
   ]
  },
  {
   "cell_type": "code",
   "execution_count": null,
   "metadata": {},
   "outputs": [],
   "source": [
    "#import libraries\n",
    "import matplotlib.pyplot as plt\n",
    "import matplotlib.patches as patches\n",
    "from PIL import Image\n",
    "import numpy as np\n",
    "import cv2"
   ]
  },
  {
   "cell_type": "code",
   "execution_count": null,
   "metadata": {},
   "outputs": [],
   "source": [
    "im_age=cv2.imread('path')\n",
    "im_age=cv2.cvtColor(im_age, cv2.COLOR_BGR2GRAY)\n",
    "\n",
    "height=len(im_age[0])\n",
    "width=len(im_age[1])\n",
    "\n",
    "step = 10\n",
    "AOI_coordinates = []\n",
    "\n",
    "image_array = np.array(im_age).astype('uint8')\n",
    "plt.figure(1, figsize = (15, 30))\n",
    "plt.imshow(image_array, cmap='gray')\n",
    "plt.show()"
   ]
  },
  {
   "cell_type": "code",
   "execution_count": null,
   "metadata": {},
   "outputs": [],
   "source": [
    "#clipping image to predict\n",
    "def clipped(x, y):\n",
    "    #Area Of Interst (AOI)\n",
    "    AOI = np.arange(1*80*80).reshape(1, 80, 80)\n",
    "    for i in range(80):\n",
    "        for j in range(80):\n",
    "            AOI[0][i][j] = '''picture_tensor'''[y+i][x+j]\n",
    "    AOI = AOI.reshape([-1, 1, 80, 80])\n",
    "    AOI = AOI.transpose([0,1,2,3])\n",
    "    AOI = AOI / 255\n",
    "    sys.stdout.write('\\rX_coordinate:{0} Y_coordinate:{1}  '.format(x, y))\n",
    "    return AOI\n",
    "\n",
    "#to check distance\n",
    "def dist(x, y, size, coordinates):\n",
    "    result = True\n",
    "    for point in coordinates:\n",
    "        if x+size > point[0][0] and x-size < point[0][0] and y+size > point[0][1] and y-size < point[0][1]:\n",
    "            result = False\n",
    "    return result\n",
    "\n",
    "\n",
    "try:\n",
    "    for y in range(int((height-(80-step))/step)):\n",
    "        for x in range(int((width-(80-step))/step) ):\n",
    "            area = clipped(x*step, y*step)\n",
    "            result = model.predict(area)\n",
    "            if result[0][1] > 0.90 and dist(x*step,y*step, 80, coordinates):\n",
    "                AOI_coordinates.append([[x*step, y*step], result])\n",
    "                print(result)\n",
    "                plt.imshow(area[0].squeeze())\n",
    "                plt.show()\n",
    "except IndexError:\n",
    "    pass\n",
    "\n",
    "#test image\n",
    "im = np.array(Image.open('path2'), dtype=np.uint8)\n",
    "\n",
    "def bounding_boxe(coordinates,im):\n",
    "    fig,ax = plt.subplots(1)\n",
    "    ax.imshow(im)\n",
    "    for v in coordinates:\n",
    "        rect = patches.Rectangle((v[0][0],v[0][1]),80,80,linewidth=1,edgecolor='r',facecolor='none')\n",
    "        ax.add_patch(rect)\n",
    "    return plt.show()\n",
    "\n",
    "bounding_boxe(AOI_coordinates,im)"
   ]
  }
 ],
 "metadata": {
  "kernelspec": {
   "display_name": "Python 3",
   "language": "python",
   "name": "python3"
  },
  "language_info": {
   "codemirror_mode": {
    "name": "ipython",
    "version": 3
   },
   "file_extension": ".py",
   "mimetype": "text/x-python",
   "name": "python",
   "nbconvert_exporter": "python",
   "pygments_lexer": "ipython3",
   "version": "3.6.4"
  }
 },
 "nbformat": 4,
 "nbformat_minor": 2
}
